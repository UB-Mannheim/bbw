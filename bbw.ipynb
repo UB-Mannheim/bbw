{
 "cells": [
  {
   "cell_type": "code",
   "execution_count": 1,
   "metadata": {},
   "outputs": [],
   "source": [
    "import os\n",
    "import pandas as pd\n",
    "\n",
    "from bbw import bbw\n",
    "from IPython.core.display import display, HTML"
   ]
  },
  {
   "cell_type": "code",
   "execution_count": 2,
   "metadata": {},
   "outputs": [
    {
     "data": {
      "text/html": [
       "<div>\n",
       "<style scoped>\n",
       "    .dataframe tbody tr th:only-of-type {\n",
       "        vertical-align: middle;\n",
       "    }\n",
       "\n",
       "    .dataframe tbody tr th {\n",
       "        vertical-align: top;\n",
       "    }\n",
       "\n",
       "    .dataframe thead th {\n",
       "        text-align: right;\n",
       "    }\n",
       "</style>\n",
       "<table border=\"1\" class=\"dataframe\">\n",
       "  <thead>\n",
       "    <tr style=\"text-align: right;\">\n",
       "      <th></th>\n",
       "      <th>0</th>\n",
       "      <th>1</th>\n",
       "      <th>2</th>\n",
       "      <th>3</th>\n",
       "    </tr>\n",
       "  </thead>\n",
       "  <tbody>\n",
       "    <tr>\n",
       "      <th>0</th>\n",
       "      <td>col0</td>\n",
       "      <td>col1</td>\n",
       "      <td>col2</td>\n",
       "      <td>col3</td>\n",
       "    </tr>\n",
       "    <tr>\n",
       "      <th>1</th>\n",
       "      <td>Mannheim</td>\n",
       "      <td>Rhine</td>\n",
       "      <td>97</td>\n",
       "      <td>Baden-Württemberg</td>\n",
       "    </tr>\n",
       "    <tr>\n",
       "      <th>2</th>\n",
       "      <td>Edinburgh</td>\n",
       "      <td>River Forth</td>\n",
       "      <td>47</td>\n",
       "      <td>City of Edinburgh</td>\n",
       "    </tr>\n",
       "  </tbody>\n",
       "</table>\n",
       "</div>"
      ],
      "text/plain": [
       "           0            1     2                   3\n",
       "0       col0         col1  col2                col3\n",
       "1   Mannheim        Rhine    97   Baden-Württemberg\n",
       "2  Edinburgh  River Forth    47  City of Edinburgh"
      ]
     },
     "execution_count": 2,
     "metadata": {},
     "output_type": "execute_result"
    }
   ],
   "source": [
    "data = [\n",
    "    ['col0', 'col1', 'col2', 'col3'],\n",
    "    ['Mannheim','Rhine', '97', 'Baden-Württemberg'],\n",
    "    ['Edinburgh','River Forth', '47', 'City of Edinburgh']\n",
    "]\n",
    "df = pd.DataFrame(data)\n",
    "df"
   ]
  },
  {
   "cell_type": "markdown",
   "metadata": {},
   "source": [
    "## Simple workflow for semantic annotations"
   ]
  },
  {
   "cell_type": "code",
   "execution_count": 3,
   "metadata": {},
   "outputs": [],
   "source": [
    "[web_table, url_table, label_table, cpa, cea, cta] = bbw.annotate(df)"
   ]
  },
  {
   "cell_type": "code",
   "execution_count": 4,
   "metadata": {},
   "outputs": [
    {
     "data": {
      "text/html": [
       "<table border=\"1\" class=\"dataframe\">\n",
       "  <thead>\n",
       "    <tr style=\"text-align: right;\">\n",
       "      <th></th>\n",
       "      <th>col0</th>\n",
       "      <th>col1</th>\n",
       "      <th>col2</th>\n",
       "      <th>col3</th>\n",
       "    </tr>\n",
       "  </thead>\n",
       "  <tbody>\n",
       "    <tr>\n",
       "      <th>1</th>\n",
       "      <td><a target=\"_blank\" href=\"http://www.wikidata.org/entity/Q2119\">Mannheim</a></td>\n",
       "      <td><a target=\"_blank\" href=\"http://www.wikidata.org/entity/Q584\">Rhine</a></td>\n",
       "      <td>97</td>\n",
       "      <td><a target=\"_blank\" href=\"http://www.wikidata.org/entity/Q985\">Baden-Württemberg</a></td>\n",
       "    </tr>\n",
       "    <tr>\n",
       "      <th>2</th>\n",
       "      <td><a target=\"_blank\" href=\"http://www.wikidata.org/entity/Q23436\">Edinburgh</a></td>\n",
       "      <td><a target=\"_blank\" href=\"http://www.wikidata.org/entity/Q2421\">River Forth</a></td>\n",
       "      <td>47</td>\n",
       "      <td><a target=\"_blank\" href=\"http://www.wikidata.org/entity/Q2379199\">City of Edinburgh</a></td>\n",
       "    </tr>\n",
       "    <tr>\n",
       "      <th>property</th>\n",
       "      <td></td>\n",
       "      <td><a target=\"_blank\" href=\"http://www.wikidata.org/prop/direct/P206\">located in or next to body of water</a></td>\n",
       "      <td><a target=\"_blank\" href=\"http://www.wikidata.org/prop/direct/P2044\">elevation above sea level</a></td>\n",
       "      <td><a target=\"_blank\" href=\"http://www.wikidata.org/prop/direct/P131\">located in the administrative territorial entity</a></td>\n",
       "    </tr>\n",
       "    <tr>\n",
       "      <th>type</th>\n",
       "      <td><a target=\"_blank\" href=\"http://www.wikidata.org/entity/Q515\">city</a></td>\n",
       "      <td><a target=\"_blank\" href=\"http://www.wikidata.org/entity/Q4022\">river</a></td>\n",
       "      <td></td>\n",
       "      <td><a target=\"_blank\" href=\"http://www.wikidata.org/entity/Q1799794\">administrative territorial entity of a specific level</a></td>\n",
       "    </tr>\n",
       "  </tbody>\n",
       "</table>"
      ],
      "text/plain": [
       "<IPython.core.display.HTML object>"
      ]
     },
     "metadata": {},
     "output_type": "display_data"
    }
   ],
   "source": [
    "display(HTML(web_table.to_html(escape=False)))"
   ]
  },
  {
   "cell_type": "markdown",
   "metadata": {},
   "source": [
    "Up to here the examples worked without SearX, because that is not installed locally along this Jupyter notebook.\n",
    "\n",
    "## Metalookup via SearX\n",
    "\n",
    "However, we can use a public instance https://searx.space/# for trying it out (but carefully as this only works for a handful examples at once)."
   ]
  },
  {
   "cell_type": "code",
   "execution_count": 5,
   "metadata": {},
   "outputs": [
    {
     "data": {
      "text/plain": [
       "'https://searx.monicz.pl/'"
      ]
     },
     "execution_count": 5,
     "metadata": {},
     "output_type": "execute_result"
    }
   ],
   "source": [
    "# For example\n",
    "os.environ[\"BBW_SEARX_URL\"] = \"https://searx.monicz.pl/\"\n",
    "os.environ[\"BBW_SEARX_URL\"]"
   ]
  },
  {
   "cell_type": "code",
   "execution_count": 6,
   "metadata": {},
   "outputs": [
    {
     "data": {
      "text/plain": [
       "[['Mannheim'], ['Edinburgh', 'edinburgh', 'Dingbur']]"
      ]
     },
     "execution_count": 6,
     "metadata": {},
     "output_type": "execute_result"
    }
   ],
   "source": [
    "# Use searx to get the bestname for a string with mistakes\n",
    "[bbw.get_searx_bestname('Monnhem'), bbw.get_searx_bestname('dingbur')]"
   ]
  },
  {
   "cell_type": "code",
   "execution_count": 7,
   "metadata": {},
   "outputs": [
    {
     "data": {
      "text/html": [
       "<div>\n",
       "<style scoped>\n",
       "    .dataframe tbody tr th:only-of-type {\n",
       "        vertical-align: middle;\n",
       "    }\n",
       "\n",
       "    .dataframe tbody tr th {\n",
       "        vertical-align: top;\n",
       "    }\n",
       "\n",
       "    .dataframe thead th {\n",
       "        text-align: right;\n",
       "    }\n",
       "</style>\n",
       "<table border=\"1\" class=\"dataframe\">\n",
       "  <thead>\n",
       "    <tr style=\"text-align: right;\">\n",
       "      <th></th>\n",
       "      <th>0</th>\n",
       "      <th>1</th>\n",
       "      <th>2</th>\n",
       "      <th>3</th>\n",
       "    </tr>\n",
       "  </thead>\n",
       "  <tbody>\n",
       "    <tr>\n",
       "      <th>0</th>\n",
       "      <td>col0</td>\n",
       "      <td>col1</td>\n",
       "      <td>col2</td>\n",
       "      <td>col3</td>\n",
       "    </tr>\n",
       "    <tr>\n",
       "      <th>1</th>\n",
       "      <td>Monnheim</td>\n",
       "      <td>Rhine</td>\n",
       "      <td>97</td>\n",
       "      <td>Baden-Württemberg</td>\n",
       "    </tr>\n",
       "    <tr>\n",
       "      <th>2</th>\n",
       "      <td>dingbur</td>\n",
       "      <td>River Forth</td>\n",
       "      <td>47</td>\n",
       "      <td>City of Edinburgh</td>\n",
       "    </tr>\n",
       "  </tbody>\n",
       "</table>\n",
       "</div>"
      ],
      "text/plain": [
       "          0            1     2                   3\n",
       "0      col0         col1  col2                col3\n",
       "1  Monnheim        Rhine    97   Baden-Württemberg\n",
       "2   dingbur  River Forth    47  City of Edinburgh"
      ]
     },
     "execution_count": 7,
     "metadata": {},
     "output_type": "execute_result"
    }
   ],
   "source": [
    "df[0][1] = \"Monnheim\"\n",
    "df[0][2] = \"dingbur\"\n",
    "df"
   ]
  },
  {
   "cell_type": "code",
   "execution_count": 8,
   "metadata": {},
   "outputs": [
    {
     "data": {
      "text/html": [
       "<table border=\"1\" class=\"dataframe\">\n",
       "  <thead>\n",
       "    <tr style=\"text-align: right;\">\n",
       "      <th></th>\n",
       "      <th>col0</th>\n",
       "      <th>col1</th>\n",
       "      <th>col2</th>\n",
       "      <th>col3</th>\n",
       "    </tr>\n",
       "  </thead>\n",
       "  <tbody>\n",
       "    <tr>\n",
       "      <th>1</th>\n",
       "      <td><a target=\"_blank\" href=\"http://www.wikidata.org/entity/Q2119\">Mannheim</a></td>\n",
       "      <td><a target=\"_blank\" href=\"http://www.wikidata.org/entity/Q584\">Rhine</a></td>\n",
       "      <td>97</td>\n",
       "      <td><a target=\"_blank\" href=\"http://www.wikidata.org/entity/Q985\">Baden-Württemberg</a></td>\n",
       "    </tr>\n",
       "    <tr>\n",
       "      <th>2</th>\n",
       "      <td><a target=\"_blank\" href=\"http://www.wikidata.org/entity/Q23436\">Edinburgh</a></td>\n",
       "      <td><a target=\"_blank\" href=\"http://www.wikidata.org/entity/Q2421\">River Forth</a></td>\n",
       "      <td>47</td>\n",
       "      <td><a target=\"_blank\" href=\"http://www.wikidata.org/entity/Q2379199\">City of Edinburgh</a></td>\n",
       "    </tr>\n",
       "    <tr>\n",
       "      <th>property</th>\n",
       "      <td></td>\n",
       "      <td><a target=\"_blank\" href=\"http://www.wikidata.org/prop/direct/P206\">located in or next to body of water</a></td>\n",
       "      <td><a target=\"_blank\" href=\"http://www.wikidata.org/prop/direct/P2044\">elevation above sea level</a></td>\n",
       "      <td><a target=\"_blank\" href=\"http://www.wikidata.org/prop/direct/P131\">located in the administrative territorial entity</a></td>\n",
       "    </tr>\n",
       "    <tr>\n",
       "      <th>type</th>\n",
       "      <td><a target=\"_blank\" href=\"http://www.wikidata.org/entity/Q515\">city</a></td>\n",
       "      <td><a target=\"_blank\" href=\"http://www.wikidata.org/entity/Q4022\">river</a></td>\n",
       "      <td></td>\n",
       "      <td><a target=\"_blank\" href=\"http://www.wikidata.org/entity/Q1799794\">administrative territorial entity of a specific level</a></td>\n",
       "    </tr>\n",
       "  </tbody>\n",
       "</table>"
      ],
      "text/plain": [
       "<IPython.core.display.HTML object>"
      ]
     },
     "metadata": {},
     "output_type": "display_data"
    }
   ],
   "source": [
    "[web_table, url_table, label_table, cpa, cea, cta] = bbw.annotate(df)\n",
    "display(HTML(web_table.to_html(escape=False)))"
   ]
  },
  {
   "cell_type": "markdown",
   "metadata": {},
   "source": [
    "## GUI\n",
    "The GUI runs on a special port `8501` which you can access from the current URL by replacing the `notebooks/bbw.ipynb` with `proxy/8501/`.\n"
   ]
  },
  {
   "cell_type": "code",
   "execution_count": null,
   "metadata": {},
   "outputs": [],
   "source": []
  }
 ],
 "metadata": {
  "kernelspec": {
   "display_name": "Python 3",
   "language": "python",
   "name": "python3"
  },
  "language_info": {
   "codemirror_mode": {
    "name": "ipython",
    "version": 3
   },
   "file_extension": ".py",
   "mimetype": "text/x-python",
   "name": "python",
   "nbconvert_exporter": "python",
   "pygments_lexer": "ipython3",
   "version": "3.7.8"
  }
 },
 "nbformat": 4,
 "nbformat_minor": 4
}
